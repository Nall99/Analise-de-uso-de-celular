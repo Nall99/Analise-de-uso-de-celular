{
 "cells": [
  {
   "cell_type": "markdown",
   "id": "1e8f2e92",
   "metadata": {},
   "source": [
    "### Importação e carregamento de Dados"
   ]
  },
  {
   "cell_type": "code",
   "execution_count": 81,
   "id": "758d2395",
   "metadata": {},
   "outputs": [],
   "source": [
    "# Bibliotecas basicas\n",
    "import pandas as pd\n",
    "import matplotlib.pyplot as plt\n",
    "\n",
    "# Importando os dados\n",
    "df = pd.read_csv('mobile_phone_usage/mobile phone usage .csv')"
   ]
  },
  {
   "cell_type": "markdown",
   "id": "5f6ff8e5",
   "metadata": {},
   "source": [
    "### Modificação das colunas"
   ]
  },
  {
   "cell_type": "code",
   "execution_count": 82,
   "id": "36b17536",
   "metadata": {},
   "outputs": [
    {
     "data": {
      "text/html": [
       "<div>\n",
       "<style scoped>\n",
       "    .dataframe tbody tr th:only-of-type {\n",
       "        vertical-align: middle;\n",
       "    }\n",
       "\n",
       "    .dataframe tbody tr th {\n",
       "        vertical-align: top;\n",
       "    }\n",
       "\n",
       "    .dataframe thead th {\n",
       "        text-align: right;\n",
       "    }\n",
       "</style>\n",
       "<table border=\"1\" class=\"dataframe\">\n",
       "  <thead>\n",
       "    <tr style=\"text-align: right;\">\n",
       "      <th></th>\n",
       "      <th>name</th>\n",
       "      <th>slug</th>\n",
       "      <th>quantidade_em_uso</th>\n",
       "      <th>date_of_information</th>\n",
       "      <th>ranking</th>\n",
       "      <th>region</th>\n",
       "    </tr>\n",
       "  </thead>\n",
       "  <tbody>\n",
       "    <tr>\n",
       "      <th>0</th>\n",
       "      <td>China</td>\n",
       "      <td>china</td>\n",
       "      <td>1810000000</td>\n",
       "      <td>2023</td>\n",
       "      <td>1</td>\n",
       "      <td>East and Southeast Asia</td>\n",
       "    </tr>\n",
       "    <tr>\n",
       "      <th>1</th>\n",
       "      <td>India</td>\n",
       "      <td>india</td>\n",
       "      <td>1140000000</td>\n",
       "      <td>2022</td>\n",
       "      <td>2</td>\n",
       "      <td>South Asia</td>\n",
       "    </tr>\n",
       "    <tr>\n",
       "      <th>2</th>\n",
       "      <td>United States</td>\n",
       "      <td>united-states</td>\n",
       "      <td>386000000</td>\n",
       "      <td>2023</td>\n",
       "      <td>3</td>\n",
       "      <td>North America</td>\n",
       "    </tr>\n",
       "    <tr>\n",
       "      <th>3</th>\n",
       "      <td>Indonesia</td>\n",
       "      <td>indonesia</td>\n",
       "      <td>352000000</td>\n",
       "      <td>2023</td>\n",
       "      <td>4</td>\n",
       "      <td>East and Southeast Asia</td>\n",
       "    </tr>\n",
       "    <tr>\n",
       "      <th>4</th>\n",
       "      <td>Russia</td>\n",
       "      <td>russia</td>\n",
       "      <td>245000000</td>\n",
       "      <td>2022</td>\n",
       "      <td>5</td>\n",
       "      <td>Central Asia</td>\n",
       "    </tr>\n",
       "    <tr>\n",
       "      <th>5</th>\n",
       "      <td>Nigeria</td>\n",
       "      <td>nigeria</td>\n",
       "      <td>224000000</td>\n",
       "      <td>2023</td>\n",
       "      <td>6</td>\n",
       "      <td>Africa</td>\n",
       "    </tr>\n",
       "    <tr>\n",
       "      <th>6</th>\n",
       "      <td>Japan</td>\n",
       "      <td>japan</td>\n",
       "      <td>219000000</td>\n",
       "      <td>2023</td>\n",
       "      <td>7</td>\n",
       "      <td>East and Southeast Asia</td>\n",
       "    </tr>\n",
       "    <tr>\n",
       "      <th>7</th>\n",
       "      <td>Brazil</td>\n",
       "      <td>brazil</td>\n",
       "      <td>213000000</td>\n",
       "      <td>2023</td>\n",
       "      <td>8</td>\n",
       "      <td>South America</td>\n",
       "    </tr>\n",
       "    <tr>\n",
       "      <th>8</th>\n",
       "      <td>Bangladesh</td>\n",
       "      <td>bangladesh</td>\n",
       "      <td>191000000</td>\n",
       "      <td>2023</td>\n",
       "      <td>9</td>\n",
       "      <td>South Asia</td>\n",
       "    </tr>\n",
       "    <tr>\n",
       "      <th>9</th>\n",
       "      <td>Pakistan</td>\n",
       "      <td>pakistan</td>\n",
       "      <td>189000000</td>\n",
       "      <td>2023</td>\n",
       "      <td>10</td>\n",
       "      <td>South Asia</td>\n",
       "    </tr>\n",
       "  </tbody>\n",
       "</table>\n",
       "</div>"
      ],
      "text/plain": [
       "            name           slug  quantidade_em_uso  date_of_information  \\\n",
       "0          China          china         1810000000                 2023   \n",
       "1          India          india         1140000000                 2022   \n",
       "2  United States  united-states          386000000                 2023   \n",
       "3      Indonesia      indonesia          352000000                 2023   \n",
       "4         Russia         russia          245000000                 2022   \n",
       "5        Nigeria        nigeria          224000000                 2023   \n",
       "6          Japan          japan          219000000                 2023   \n",
       "7         Brazil         brazil          213000000                 2023   \n",
       "8     Bangladesh     bangladesh          191000000                 2023   \n",
       "9       Pakistan       pakistan          189000000                 2023   \n",
       "\n",
       "  ranking                   region  \n",
       "0       1  East and Southeast Asia  \n",
       "1       2               South Asia  \n",
       "2       3            North America  \n",
       "3       4  East and Southeast Asia  \n",
       "4       5             Central Asia  \n",
       "5       6                   Africa  \n",
       "6       7  East and Southeast Asia  \n",
       "7       8            South America  \n",
       "8       9               South Asia  \n",
       "9      10               South Asia  "
      ]
     },
     "execution_count": 82,
     "metadata": {},
     "output_type": "execute_result"
    }
   ],
   "source": [
    "# Alterando nome da coluna 'ï»¿name' para 'name'\n",
    "df.rename(columns={'ï»¿name': 'name'}, inplace=True)\n",
    "\n",
    "# Alterando o nome da coluna 'value' para 'quantidade_em_uso'\n",
    "df.rename(columns={'value': 'quantidade_em_uso'}, inplace=True)\n",
    "\n",
    "# Transformando a coluna 'ranking' para o tipo 'object'\n",
    "df['ranking'] = df['ranking'].astype('object')\n",
    "\n",
    "# Transformando a coluna 'quantidade_em_uso' para o tipo 'int64'\n",
    "df['quantidade_em_uso'] = df['quantidade_em_uso'].str.replace(',', '').astype('int64')\n",
    "\n",
    "df.head(10)"
   ]
  },
  {
   "cell_type": "markdown",
   "id": "ec340036",
   "metadata": {},
   "source": [
    "### Checagem de Saúde da Base de Dados"
   ]
  },
  {
   "cell_type": "code",
   "execution_count": 42,
   "id": "a05197a3",
   "metadata": {},
   "outputs": [
    {
     "name": "stdout",
     "output_type": "stream",
     "text": [
      "<class 'pandas.core.frame.DataFrame'>\n",
      "RangeIndex: 225 entries, 0 to 224\n",
      "Data columns (total 6 columns):\n",
      " #   Column               Non-Null Count  Dtype \n",
      "---  ------               --------------  ----- \n",
      " 0   name                 225 non-null    object\n",
      " 1   slug                 225 non-null    object\n",
      " 2   quantidade_em_uso    225 non-null    int64 \n",
      " 3   date_of_information  225 non-null    int64 \n",
      " 4   ranking              225 non-null    object\n",
      " 5   region               225 non-null    object\n",
      "dtypes: int64(2), object(4)\n",
      "memory usage: 10.7+ KB\n"
     ]
    }
   ],
   "source": [
    "# Checagem de saúde da base de dados\n",
    "df.info()"
   ]
  },
  {
   "cell_type": "code",
   "execution_count": null,
   "id": "ebdd9068",
   "metadata": {},
   "outputs": [
    {
     "data": {
      "text/html": [
       "<div>\n",
       "<style scoped>\n",
       "    .dataframe tbody tr th:only-of-type {\n",
       "        vertical-align: middle;\n",
       "    }\n",
       "\n",
       "    .dataframe tbody tr th {\n",
       "        vertical-align: top;\n",
       "    }\n",
       "\n",
       "    .dataframe thead th {\n",
       "        text-align: right;\n",
       "    }\n",
       "</style>\n",
       "<table border=\"1\" class=\"dataframe\">\n",
       "  <thead>\n",
       "    <tr style=\"text-align: right;\">\n",
       "      <th></th>\n",
       "      <th>quantidade_em_uso</th>\n",
       "      <th>date_of_information</th>\n",
       "    </tr>\n",
       "  </thead>\n",
       "  <tbody>\n",
       "    <tr>\n",
       "      <th>count</th>\n",
       "      <td>2.250000e+02</td>\n",
       "      <td>225.000000</td>\n",
       "    </tr>\n",
       "    <tr>\n",
       "      <th>mean</th>\n",
       "      <td>3.911035e+07</td>\n",
       "      <td>2022.075556</td>\n",
       "    </tr>\n",
       "    <tr>\n",
       "      <th>std</th>\n",
       "      <td>1.498258e+08</td>\n",
       "      <td>2.492592</td>\n",
       "    </tr>\n",
       "    <tr>\n",
       "      <th>min</th>\n",
       "      <td>0.000000e+00</td>\n",
       "      <td>2004.000000</td>\n",
       "    </tr>\n",
       "    <tr>\n",
       "      <th>25%</th>\n",
       "      <td>7.520000e+05</td>\n",
       "      <td>2022.000000</td>\n",
       "    </tr>\n",
       "    <tr>\n",
       "      <th>50%</th>\n",
       "      <td>7.050000e+06</td>\n",
       "      <td>2023.000000</td>\n",
       "    </tr>\n",
       "    <tr>\n",
       "      <th>75%</th>\n",
       "      <td>2.380000e+07</td>\n",
       "      <td>2023.000000</td>\n",
       "    </tr>\n",
       "    <tr>\n",
       "      <th>max</th>\n",
       "      <td>1.810000e+09</td>\n",
       "      <td>2023.000000</td>\n",
       "    </tr>\n",
       "  </tbody>\n",
       "</table>\n",
       "</div>"
      ],
      "text/plain": [
       "       quantidade_em_uso  date_of_information\n",
       "count       2.250000e+02           225.000000\n",
       "mean        3.911035e+07          2022.075556\n",
       "std         1.498258e+08             2.492592\n",
       "min         0.000000e+00          2004.000000\n",
       "25%         7.520000e+05          2022.000000\n",
       "50%         7.050000e+06          2023.000000\n",
       "75%         2.380000e+07          2023.000000\n",
       "max         1.810000e+09          2023.000000"
      ]
     },
     "execution_count": 43,
     "metadata": {},
     "output_type": "execute_result"
    }
   ],
   "source": [
    "# Descrição estatística dos dados\n",
    "df.describe()"
   ]
  },
  {
   "cell_type": "code",
   "execution_count": 20,
   "id": "d2c599d2",
   "metadata": {},
   "outputs": [
    {
     "data": {
      "text/plain": [
       "name                   0\n",
       "slug                   0\n",
       "value                  0\n",
       "date_of_information    0\n",
       "ranking                0\n",
       "region                 0\n",
       "dtype: int64"
      ]
     },
     "execution_count": 20,
     "metadata": {},
     "output_type": "execute_result"
    }
   ],
   "source": [
    "# Checando valores nulos\n",
    "df.isnull().sum()"
   ]
  },
  {
   "cell_type": "code",
   "execution_count": null,
   "id": "90b13357",
   "metadata": {},
   "outputs": [
    {
     "data": {
      "text/plain": [
       "np.int64(0)"
      ]
     },
     "execution_count": 21,
     "metadata": {},
     "output_type": "execute_result"
    }
   ],
   "source": [
    "# Checando valores duplicados\n",
    "df.duplicated().sum()"
   ]
  },
  {
   "cell_type": "markdown",
   "id": "32c04c87",
   "metadata": {},
   "source": [
    "🔍 Cuidados com Valores Duplicados\n",
    "É importante verificar se há valores duplicados no conjunto de dados, pois isso pode impactar negativamente as análises.\n",
    "\n",
    "No entanto, como não foram encontrados registros duplicados, não é necessário adicionar uma coluna de ID. Os nomes dos países já são únicos e podem ser utilizados como identificador principal."
   ]
  },
  {
   "cell_type": "markdown",
   "id": "a4b5fc29",
   "metadata": {},
   "source": [
    "### Região por uso de celulares"
   ]
  },
  {
   "cell_type": "code",
   "execution_count": 50,
   "id": "78827dfa",
   "metadata": {},
   "outputs": [
    {
     "data": {
      "text/html": [
       "<div>\n",
       "<style scoped>\n",
       "    .dataframe tbody tr th:only-of-type {\n",
       "        vertical-align: middle;\n",
       "    }\n",
       "\n",
       "    .dataframe tbody tr th {\n",
       "        vertical-align: top;\n",
       "    }\n",
       "\n",
       "    .dataframe thead th {\n",
       "        text-align: right;\n",
       "    }\n",
       "</style>\n",
       "<table border=\"1\" class=\"dataframe\">\n",
       "  <thead>\n",
       "    <tr style=\"text-align: right;\">\n",
       "      <th></th>\n",
       "      <th>region</th>\n",
       "      <th>quantidade_em_uso</th>\n",
       "    </tr>\n",
       "  </thead>\n",
       "  <tbody>\n",
       "    <tr>\n",
       "      <th>1</th>\n",
       "      <td>Australia and Oceania</td>\n",
       "      <td>38456724</td>\n",
       "    </tr>\n",
       "    <tr>\n",
       "      <th>2</th>\n",
       "      <td>Central America and the Caribbean</td>\n",
       "      <td>98779765</td>\n",
       "    </tr>\n",
       "    <tr>\n",
       "      <th>3</th>\n",
       "      <td>Central Asia</td>\n",
       "      <td>354700000</td>\n",
       "    </tr>\n",
       "    <tr>\n",
       "      <th>6</th>\n",
       "      <td>Middle East</td>\n",
       "      <td>454030000</td>\n",
       "    </tr>\n",
       "    <tr>\n",
       "      <th>8</th>\n",
       "      <td>South America</td>\n",
       "      <td>495421000</td>\n",
       "    </tr>\n",
       "    <tr>\n",
       "      <th>7</th>\n",
       "      <td>North America</td>\n",
       "      <td>562635000</td>\n",
       "    </tr>\n",
       "    <tr>\n",
       "      <th>5</th>\n",
       "      <td>Europe</td>\n",
       "      <td>747945427</td>\n",
       "    </tr>\n",
       "    <tr>\n",
       "      <th>0</th>\n",
       "      <td>Africa</td>\n",
       "      <td>1360762000</td>\n",
       "    </tr>\n",
       "    <tr>\n",
       "      <th>9</th>\n",
       "      <td>South Asia</td>\n",
       "      <td>1612697000</td>\n",
       "    </tr>\n",
       "    <tr>\n",
       "      <th>4</th>\n",
       "      <td>East and Southeast Asia</td>\n",
       "      <td>3074401000</td>\n",
       "    </tr>\n",
       "  </tbody>\n",
       "</table>\n",
       "</div>"
      ],
      "text/plain": [
       "                              region  quantidade_em_uso\n",
       "1              Australia and Oceania           38456724\n",
       "2  Central America and the Caribbean           98779765\n",
       "3                       Central Asia          354700000\n",
       "6                        Middle East          454030000\n",
       "8                      South America          495421000\n",
       "7                      North America          562635000\n",
       "5                             Europe          747945427\n",
       "0                             Africa         1360762000\n",
       "9                         South Asia         1612697000\n",
       "4            East and Southeast Asia         3074401000"
      ]
     },
     "execution_count": 50,
     "metadata": {},
     "output_type": "execute_result"
    }
   ],
   "source": [
    "df_region = df.groupby('region')['quantidade_em_uso'].sum().reset_index()\n",
    "df_region = df_region.sort_values(by='quantidade_em_uso', ascending=True)\n",
    "\n",
    "df_region"
   ]
  },
  {
   "cell_type": "code",
   "execution_count": 51,
   "id": "c90adf6c",
   "metadata": {},
   "outputs": [
    {
     "data": {
      "text/plain": [
       "<BarContainer object of 10 artists>"
      ]
     },
     "execution_count": 51,
     "metadata": {},
     "output_type": "execute_result"
    },
    {
     "data": {
      "image/png": "[encoded data removed]",
      "text/plain": [
       "<Figure size 640x480 with 1 Axes>"
      ]
     },
     "metadata": {},
     "output_type": "display_data"
    }
   ],
   "source": [
    "plt.barh(df_region['region'], df_region['quantidade_em_uso'])"
   ]
  },
  {
   "cell_type": "markdown",
   "id": "d20064a8",
   "metadata": {},
   "source": [
    "### Ano que teve maior uso de celulares"
   ]
  },
  {
   "cell_type": "code",
   "execution_count": 83,
   "id": "b6b2309a",
   "metadata": {},
   "outputs": [
    {
     "data": {
      "text/html": [
       "<div>\n",
       "<style scoped>\n",
       "    .dataframe tbody tr th:only-of-type {\n",
       "        vertical-align: middle;\n",
       "    }\n",
       "\n",
       "    .dataframe tbody tr th {\n",
       "        vertical-align: top;\n",
       "    }\n",
       "\n",
       "    .dataframe thead th {\n",
       "        text-align: right;\n",
       "    }\n",
       "</style>\n",
       "<table border=\"1\" class=\"dataframe\">\n",
       "  <thead>\n",
       "    <tr style=\"text-align: right;\">\n",
       "      <th></th>\n",
       "      <th>date_of_information</th>\n",
       "      <th>quantidade_em_uso</th>\n",
       "    </tr>\n",
       "  </thead>\n",
       "  <tbody>\n",
       "    <tr>\n",
       "      <th>0</th>\n",
       "      <td>2004</td>\n",
       "      <td>45559</td>\n",
       "    </tr>\n",
       "    <tr>\n",
       "      <th>1</th>\n",
       "      <td>2009</td>\n",
       "      <td>100250</td>\n",
       "    </tr>\n",
       "    <tr>\n",
       "      <th>2</th>\n",
       "      <td>2012</td>\n",
       "      <td>137680</td>\n",
       "    </tr>\n",
       "    <tr>\n",
       "      <th>3</th>\n",
       "      <td>2018</td>\n",
       "      <td>0</td>\n",
       "    </tr>\n",
       "    <tr>\n",
       "      <th>4</th>\n",
       "      <td>2020</td>\n",
       "      <td>5000</td>\n",
       "    </tr>\n",
       "    <tr>\n",
       "      <th>5</th>\n",
       "      <td>2021</td>\n",
       "      <td>168142568</td>\n",
       "    </tr>\n",
       "    <tr>\n",
       "      <th>6</th>\n",
       "      <td>2022</td>\n",
       "      <td>1722196859</td>\n",
       "    </tr>\n",
       "    <tr>\n",
       "      <th>7</th>\n",
       "      <td>2023</td>\n",
       "      <td>6909200000</td>\n",
       "    </tr>\n",
       "  </tbody>\n",
       "</table>\n",
       "</div>"
      ],
      "text/plain": [
       "   date_of_information  quantidade_em_uso\n",
       "0                 2004              45559\n",
       "1                 2009             100250\n",
       "2                 2012             137680\n",
       "3                 2018                  0\n",
       "4                 2020               5000\n",
       "5                 2021          168142568\n",
       "6                 2022         1722196859\n",
       "7                 2023         6909200000"
      ]
     },
     "execution_count": 83,
     "metadata": {},
     "output_type": "execute_result"
    }
   ],
   "source": [
    "df_year = df.groupby('date_of_information')['quantidade_em_uso'].sum().reset_index()\n",
    "df_year = df_year.sort_values(by='date_of_information', ascending=True)\n",
    "\n",
    "df_year"
   ]
  },
  {
   "cell_type": "code",
   "execution_count": 84,
   "id": "7a359632",
   "metadata": {},
   "outputs": [
    {
     "data": {
      "text/html": [
       "<div>\n",
       "<style scoped>\n",
       "    .dataframe tbody tr th:only-of-type {\n",
       "        vertical-align: middle;\n",
       "    }\n",
       "\n",
       "    .dataframe tbody tr th {\n",
       "        vertical-align: top;\n",
       "    }\n",
       "\n",
       "    .dataframe thead th {\n",
       "        text-align: right;\n",
       "    }\n",
       "</style>\n",
       "<table border=\"1\" class=\"dataframe\">\n",
       "  <thead>\n",
       "    <tr style=\"text-align: right;\">\n",
       "      <th></th>\n",
       "      <th>name</th>\n",
       "      <th>slug</th>\n",
       "      <th>quantidade_em_uso</th>\n",
       "      <th>date_of_information</th>\n",
       "      <th>ranking</th>\n",
       "      <th>region</th>\n",
       "    </tr>\n",
       "  </thead>\n",
       "  <tbody>\n",
       "    <tr>\n",
       "      <th>224</th>\n",
       "      <td>Wallis and Futuna</td>\n",
       "      <td>wallis-and-futuna</td>\n",
       "      <td>0</td>\n",
       "      <td>2018</td>\n",
       "      <td>225</td>\n",
       "      <td>Australia and Oceania</td>\n",
       "    </tr>\n",
       "  </tbody>\n",
       "</table>\n",
       "</div>"
      ],
      "text/plain": [
       "                  name               slug  quantidade_em_uso  \\\n",
       "224  Wallis and Futuna  wallis-and-futuna                  0   \n",
       "\n",
       "     date_of_information ranking                 region  \n",
       "224                 2018     225  Australia and Oceania  "
      ]
     },
     "execution_count": 84,
     "metadata": {},
     "output_type": "execute_result"
    }
   ],
   "source": [
    "df[df['date_of_information'] == 2018]\n"
   ]
  },
  {
   "cell_type": "markdown",
   "id": "0dd7d343",
   "metadata": {},
   "source": [
    "Em 2018, a fonte Digital in 2018 – East Oceania (baseada em dados da GSMA Intelligence no final de 2017) indica que Wallis e Futuna tinha cerca de 8.492 conexões móveis — o que representa 76% da população do território na época\n",
    "\n",
    "📌 **Contexto e interpretação**\n",
    "- **Essas 8.492 “conexões” referem-se a linhas ativas (SIM cards)**, e não ao número de pessoas. Em muitos lugares, uma pessoa pode ter mais de uma conexão (por exemplo, planos pessoais e de trabalho).\n",
    "\n",
    "- Já o CIA World Factbook para 2018 registra **“0 subscrições móveis”**, indicando que, naquele ano, **talvez** não havia serviços oficiais disponíveis ou **deteção falhou**, possivelmente até antes da rede “Manuia” ter sido implantada e reconhecida. Essa discrepância pode refletir diferentes métodos de coleta ou cronologias implantação do serviço."
   ]
  },
  {
   "cell_type": "code",
   "execution_count": null,
   "id": "55e73ad1",
   "metadata": {},
   "outputs": [],
   "source": [
    "# Por essa informação decide substituir o valor de 0 por 8492, \n",
    "# que é o valor da quantidade de celulares em uso no ano de 2018\n",
    "df.loc[df['date_of_information'] == 2018, 'quantidade_em_uso'] = 8492"
   ]
  },
  {
   "cell_type": "code",
   "execution_count": 87,
   "id": "bcc5da74",
   "metadata": {},
   "outputs": [
    {
     "data": {
      "text/html": [
       "<div>\n",
       "<style scoped>\n",
       "    .dataframe tbody tr th:only-of-type {\n",
       "        vertical-align: middle;\n",
       "    }\n",
       "\n",
       "    .dataframe tbody tr th {\n",
       "        vertical-align: top;\n",
       "    }\n",
       "\n",
       "    .dataframe thead th {\n",
       "        text-align: right;\n",
       "    }\n",
       "</style>\n",
       "<table border=\"1\" class=\"dataframe\">\n",
       "  <thead>\n",
       "    <tr style=\"text-align: right;\">\n",
       "      <th></th>\n",
       "      <th>date_of_information</th>\n",
       "      <th>quantidade_em_uso</th>\n",
       "    </tr>\n",
       "  </thead>\n",
       "  <tbody>\n",
       "    <tr>\n",
       "      <th>0</th>\n",
       "      <td>2004</td>\n",
       "      <td>45559</td>\n",
       "    </tr>\n",
       "    <tr>\n",
       "      <th>1</th>\n",
       "      <td>2009</td>\n",
       "      <td>100250</td>\n",
       "    </tr>\n",
       "    <tr>\n",
       "      <th>2</th>\n",
       "      <td>2012</td>\n",
       "      <td>137680</td>\n",
       "    </tr>\n",
       "    <tr>\n",
       "      <th>3</th>\n",
       "      <td>2018</td>\n",
       "      <td>8492</td>\n",
       "    </tr>\n",
       "    <tr>\n",
       "      <th>4</th>\n",
       "      <td>2020</td>\n",
       "      <td>5000</td>\n",
       "    </tr>\n",
       "    <tr>\n",
       "      <th>5</th>\n",
       "      <td>2021</td>\n",
       "      <td>168142568</td>\n",
       "    </tr>\n",
       "    <tr>\n",
       "      <th>6</th>\n",
       "      <td>2022</td>\n",
       "      <td>1722196859</td>\n",
       "    </tr>\n",
       "    <tr>\n",
       "      <th>7</th>\n",
       "      <td>2023</td>\n",
       "      <td>6909200000</td>\n",
       "    </tr>\n",
       "  </tbody>\n",
       "</table>\n",
       "</div>"
      ],
      "text/plain": [
       "   date_of_information  quantidade_em_uso\n",
       "0                 2004              45559\n",
       "1                 2009             100250\n",
       "2                 2012             137680\n",
       "3                 2018               8492\n",
       "4                 2020               5000\n",
       "5                 2021          168142568\n",
       "6                 2022         1722196859\n",
       "7                 2023         6909200000"
      ]
     },
     "execution_count": 87,
     "metadata": {},
     "output_type": "execute_result"
    }
   ],
   "source": [
    "# Checando novamente os dados para ver se o valor foi alterado\n",
    "\n",
    "df_year = df.groupby('date_of_information')['quantidade_em_uso'].sum().reset_index()\n",
    "df_year = df_year.sort_values(by='date_of_information', ascending=True)\n",
    "\n",
    "df_year"
   ]
  },
  {
   "cell_type": "markdown",
   "id": "1593277c",
   "metadata": {},
   "source": [
    "### Quantidade de paises que foram registrados em cada ano"
   ]
  },
  {
   "cell_type": "code",
   "execution_count": null,
   "id": "1d35d763",
   "metadata": {},
   "outputs": [],
   "source": []
  }
 ],
 "metadata": {
  "kernelspec": {
   "display_name": ".venv",
   "language": "python",
   "name": "python3"
  },
  "language_info": {
   "codemirror_mode": {
    "name": "ipython",
    "version": 3
   },
   "file_extension": ".py",
   "mimetype": "text/x-python",
   "name": "python",
   "nbconvert_exporter": "python",
   "pygments_lexer": "ipython3",
   "version": "3.12.3"
  }
 },
 "nbformat": 4,
 "nbformat_minor": 5
}
